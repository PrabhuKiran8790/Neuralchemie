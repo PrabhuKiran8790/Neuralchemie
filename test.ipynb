{
 "cells": [
  {
   "cell_type": "code",
   "execution_count": 1,
   "metadata": {},
   "outputs": [
    {
     "name": "stdout",
     "output_type": "stream",
     "text": [
      "The predicted value of Y for X = 9 is: 850.0\n"
     ]
    }
   ],
   "source": [
    "from sklearn.tree import DecisionTreeRegressor\n",
    "import numpy as np\n",
    "\n",
    "# Sample dataset\n",
    "X = np.array([1, 2, 3, 4, 5, 6, 7, 8, 9, 10, 11, 12, 13, 14, 15]).reshape(-1, 1)\n",
    "y = np.array([450, 500, 550, 600, 650, 700, 750, 800, 850, 900, 950, 1000, 1050, 1100, 1150])\n",
    "\n",
    "# Create and fit the decision tree regression model\n",
    "model = DecisionTreeRegressor(random_state=42)\n",
    "model.fit(X, y)\n",
    "\n",
    "X_unknown = np.array([[9]])\n",
    "predicted_y = model.predict(X_unknown)\n",
    "\n",
    "print(f\"The predicted value of Y for X = 9 is: {predicted_y[0]}\")"
   ]
  },
  {
   "cell_type": "code",
   "execution_count": 2,
   "metadata": {},
   "outputs": [
    {
     "name": "stdout",
     "output_type": "stream",
     "text": [
      "|--- X <= 7.50\n",
      "|   |--- X <= 3.50\n",
      "|   |   |--- X <= 1.50\n",
      "|   |   |   |--- value: [450.00]\n",
      "|   |   |--- X >  1.50\n",
      "|   |   |   |--- X <= 2.50\n",
      "|   |   |   |   |--- value: [500.00]\n",
      "|   |   |   |--- X >  2.50\n",
      "|   |   |   |   |--- value: [550.00]\n",
      "|   |--- X >  3.50\n",
      "|   |   |--- X <= 5.50\n",
      "|   |   |   |--- X <= 4.50\n",
      "|   |   |   |   |--- value: [600.00]\n",
      "|   |   |   |--- X >  4.50\n",
      "|   |   |   |   |--- value: [650.00]\n",
      "|   |   |--- X >  5.50\n",
      "|   |   |   |--- X <= 6.50\n",
      "|   |   |   |   |--- value: [700.00]\n",
      "|   |   |   |--- X >  6.50\n",
      "|   |   |   |   |--- value: [750.00]\n",
      "|--- X >  7.50\n",
      "|   |--- X <= 11.50\n",
      "|   |   |--- X <= 9.50\n",
      "|   |   |   |--- X <= 8.50\n",
      "|   |   |   |   |--- value: [800.00]\n",
      "|   |   |   |--- X >  8.50\n",
      "|   |   |   |   |--- value: [850.00]\n",
      "|   |   |--- X >  9.50\n",
      "|   |   |   |--- X <= 10.50\n",
      "|   |   |   |   |--- value: [900.00]\n",
      "|   |   |   |--- X >  10.50\n",
      "|   |   |   |   |--- value: [950.00]\n",
      "|   |--- X >  11.50\n",
      "|   |   |--- X <= 13.50\n",
      "|   |   |   |--- X <= 12.50\n",
      "|   |   |   |   |--- value: [1000.00]\n",
      "|   |   |   |--- X >  12.50\n",
      "|   |   |   |   |--- value: [1050.00]\n",
      "|   |   |--- X >  13.50\n",
      "|   |   |   |--- X <= 14.50\n",
      "|   |   |   |   |--- value: [1100.00]\n",
      "|   |   |   |--- X >  14.50\n",
      "|   |   |   |   |--- value: [1150.00]\n",
      "\n",
      "The predicted value of Y for X = 9 is: 850.0\n"
     ]
    }
   ],
   "source": [
    "from sklearn.tree import DecisionTreeRegressor, export_text\n",
    "import numpy as np\n",
    "\n",
    "# Sample dataset\n",
    "X = np.array([1, 2, 3, 4, 5, 6, 7, 8, 9, 10,\n",
    "             11, 12, 13, 14, 15]).reshape(-1, 1)\n",
    "y = np.array([450, 500, 550, 600, 650, 700, 750, 800,\n",
    "             850, 900, 950, 1000, 1050, 1100, 1150])\n",
    "\n",
    "# Create and fit the decision tree regression model\n",
    "model = DecisionTreeRegressor(random_state=42)\n",
    "model.fit(X, y)\n",
    "\n",
    "# Print the decision tree structure\n",
    "tree_rules = export_text(model, feature_names=['X'])\n",
    "print(tree_rules)\n",
    "\n",
    "# Predict for the unknown point X = 9\n",
    "X_unknown = np.array([[9]])\n",
    "predicted_y = model.predict(X_unknown)\n",
    "\n",
    "print(f\"The predicted value of Y for X = 9 is: {predicted_y[0]}\")"
   ]
  },
  {
   "cell_type": "code",
   "execution_count": null,
   "metadata": {},
   "outputs": [],
   "source": []
  }
 ],
 "metadata": {
  "kernelspec": {
   "display_name": "Python 3",
   "language": "python",
   "name": "python3"
  },
  "language_info": {
   "codemirror_mode": {
    "name": "ipython",
    "version": 3
   },
   "file_extension": ".py",
   "mimetype": "text/x-python",
   "name": "python",
   "nbconvert_exporter": "python",
   "pygments_lexer": "ipython3",
   "version": "3.9.6"
  }
 },
 "nbformat": 4,
 "nbformat_minor": 2
}
